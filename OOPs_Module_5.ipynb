{
  "nbformat": 4,
  "nbformat_minor": 0,
  "metadata": {
    "colab": {
      "provenance": []
    },
    "kernelspec": {
      "name": "python3",
      "display_name": "Python 3"
    },
    "language_info": {
      "name": "python"
    }
  },
  "cells": [
    {
      "cell_type": "markdown",
      "source": [
        "# OOPs"
      ],
      "metadata": {
        "id": "dny_OAooQOps"
      }
    },
    {
      "cell_type": "markdown",
      "source": [
        "1. What is Object-Oriented Programming (OOP)?\n",
        "    - Object-Oriented Programming (OOP) is a programming paradigm that organizes software design around objects, which represent real-world entities. These objects contain data (attributes) and behavior (methods), making code more modular, reusable, and easier to manage. It focuses on building programs using key principles like encapsulation, abstraction, inheritance, and polymorphism."
      ],
      "metadata": {
        "id": "PQ1h7piGQWIP"
      }
    },
    {
      "cell_type": "markdown",
      "source": [
        "2. What is a class in OOP+?\n",
        "    - Class in OOP is a blueprint or template used to create objects. It defines the attributes (data) and methods (behaviors) that the objects created from it will have. A class does not hold actual data itself but serves as a structure for creating individual objects."
      ],
      "metadata": {
        "id": "aArqJubxRAiW"
      }
    },
    {
      "cell_type": "markdown",
      "source": [
        "3. What is an object in OOP?\n",
        "    - An object is an instance of a class that represents a real-world entity with data and behavior."
      ],
      "metadata": {
        "id": "TTbN1epMRKRm"
      }
    },
    {
      "cell_type": "markdown",
      "source": [
        "4. What is the difference between abstraction and encapsulation?\n",
        "    - **Abstraction:** Hides complex implementation details and exposes only essential features.\n",
        "    - **Encapsulation:** Bundles data and methods together while restricting direct access to data."
      ],
      "metadata": {
        "id": "TSOg60eJRu5t"
      }
    },
    {
      "cell_type": "markdown",
      "source": [
        "5. What are dunder methods in Python?\n",
        "    - **Dunder methods** are special Python methods with double underscores, like __init__, __str__, and __call__, used for specific built-in behaviors."
      ],
      "metadata": {
        "id": "5PyZGfk6R_5c"
      }
    },
    {
      "cell_type": "markdown",
      "source": [
        "6. Explain the concept of inheritance in OOP?\n",
        "    - Inheritance allows one class (child) to acquire the properties and behaviors of another class (parent), promoting code reuse."
      ],
      "metadata": {
        "id": "W9Mjx2-mSKkU"
      }
    },
    {
      "cell_type": "markdown",
      "source": [
        "7. What is polymorphism in OOP?\n",
        "    - Polymorphism allows different classes to define methods with the same name but different behaviors."
      ],
      "metadata": {
        "id": "zXSVkFF7SWzF"
      }
    },
    {
      "cell_type": "markdown",
      "source": [
        "8. How is encapsulation achieved in Python?\n",
        "    - Encapsulation is achieved by making variables private using __ and providing getter and setter methods to access or modify them."
      ],
      "metadata": {
        "id": "hHrfVjgkScjh"
      }
    },
    {
      "cell_type": "markdown",
      "source": [
        "9. What is a constructor in Python?\n",
        "    - A constructor is a special method, __init__, automatically called when an object is created to initialize its attributes."
      ],
      "metadata": {
        "id": "Jo65LDwOSh5B"
      }
    },
    {
      "cell_type": "markdown",
      "source": [
        "10. What are class and static methods in Python?\n",
        "    - Class Method: Defined with @classmethod, it works with the class itself and takes cls as its first argument.\n",
        "    - Static Method: Defined with @staticmethod, it does not take self or cls and acts like a regular function inside a class."
      ],
      "metadata": {
        "id": "ezkBH0LYSojd"
      }
    },
    {
      "cell_type": "markdown",
      "source": [
        "11. What is method overloading in Python?\n",
        "    - Method overloading means having multiple methods with the same name but different parameters.\n",
        "    - (Python does not support it directly but can mimic it using default arguments or *args.)"
      ],
      "metadata": {
        "id": "8i6pP5-ESyql"
      }
    },
    {
      "cell_type": "markdown",
      "source": [
        "12. What is method overriding in OOP?\n",
        "    - Method overriding occurs when a child class redefines a method already defined in its parent class."
      ],
      "metadata": {
        "id": "9YdZlGHJS7zW"
      }
    },
    {
      "cell_type": "markdown",
      "source": [
        "13. What is a property decorator in Python?\n",
        "    - The @property decorator allows you to access a method as if it were an attribute, commonly used for getters."
      ],
      "metadata": {
        "id": "E6OiTn1ATAuK"
      }
    },
    {
      "cell_type": "markdown",
      "source": [
        "14. Why is polymorphism important in OOP?\n",
        "    - Polymorphism provides flexibility and scalability by allowing the same interface to be used for different underlying data types."
      ],
      "metadata": {
        "id": "j7V4lLbjTGFH"
      }
    },
    {
      "cell_type": "markdown",
      "source": [
        "15. What is an abstract class in Python?\n",
        "    - An abstract class is a class that cannot be instantiated and can contain abstract methods. It is created using the abc module."
      ],
      "metadata": {
        "id": "Zi9rafVOTMWW"
      }
    },
    {
      "cell_type": "markdown",
      "source": [
        "16. What are the advantages of OOP?\n",
        "    - Code modularity\n",
        "    - Reusability through inheritance\n",
        "    - Encapsulation for data protection\n",
        "    - Abstraction to hide complexity\n",
        "    - Scalability and easy maintenance"
      ],
      "metadata": {
        "id": "XoK-eQdJTQlZ"
      }
    },
    {
      "cell_type": "markdown",
      "source": [
        "17. What is the difference between a class variable and an instance variable?\n",
        "    - **Class Variable:** Shared across all instances of the class.\n",
        "    - **Instance Variable:** Unique to each object."
      ],
      "metadata": {
        "id": "w0T7psziTbls"
      }
    },
    {
      "cell_type": "markdown",
      "source": [
        "18. What is multiple inheritance in Python?\n",
        "    - Multiple inheritance occurs when a class inherits from more than one parent class."
      ],
      "metadata": {
        "id": "gD-M30bKTmqR"
      }
    },
    {
      "cell_type": "markdown",
      "source": [
        "19. Explain the purpose of ‘’__str__’ and ‘__repr__’‘ methods in Python?\n",
        "      - ‘’__str__’: Returns a readable, user-friendly string representation of an object.\n",
        "      - ‘__repr__’‘: Returns a detailed string for developers and debugging."
      ],
      "metadata": {
        "id": "pPIkq_q4TsBO"
      }
    },
    {
      "cell_type": "markdown",
      "source": [
        "20. What is the significance of the ‘super()’ function in Python?\n",
        "    - super() is used to call methods from a parent class, often inside a child class."
      ],
      "metadata": {
        "id": "QHM9c0uHT0CB"
      }
    },
    {
      "cell_type": "markdown",
      "source": [
        "21. What is the significance of the __del__ method in Python?\n",
        "    - The __del__ method is a destructor, automatically called when an object is deleted or goes out of scope."
      ],
      "metadata": {
        "id": "X21OS1miU08y"
      }
    },
    {
      "cell_type": "markdown",
      "source": [
        "22. What is the difference between @staticmethod and @classmethod in Python?\n",
        "    - @staticmethod: Does not take self or cls as arguments.\n",
        "    - @classmethod: Takes cls as the first argument and works with the class itself."
      ],
      "metadata": {
        "id": "Sx-VqIuKVApB"
      }
    },
    {
      "cell_type": "markdown",
      "source": [
        "23. How does polymorphism work in Python with inheritance?\n",
        "    - Polymorphism in inheritance allows child classes to override parent class methods, providing different behaviors while using the same method name."
      ],
      "metadata": {
        "id": "a-XEzOZoVN_7"
      }
    },
    {
      "cell_type": "markdown",
      "source": [
        "24. What is method chaining in Python OOP?\n",
        "    - Method chaining allows calling multiple methods in a single line by returning self at the end of each method."
      ],
      "metadata": {
        "id": "WromZNZrVS2W"
      }
    },
    {
      "cell_type": "markdown",
      "source": [
        "25. What is the purpose of the __call__ method in Python?\n",
        "    - The __call__ method allows an object to be called like a function."
      ],
      "metadata": {
        "id": "jPhdq9qjVXv_"
      }
    },
    {
      "cell_type": "markdown",
      "source": [
        "# Practical Questions"
      ],
      "metadata": {
        "id": "4vQFw8zmWiwD"
      }
    },
    {
      "cell_type": "markdown",
      "source": [
        "1. Create a parent class Animal with a method speak() that prints a generic message. Create\n",
        "a child class Dog that overrides the speak() method to print 'Bark!'?\n"
      ],
      "metadata": {
        "id": "8frL47nTWnne"
      }
    },
    {
      "cell_type": "markdown",
      "source": [
        "- The answer to the 1st question"
      ],
      "metadata": {
        "id": "EfjK0KNNX1Qg"
      }
    },
    {
      "cell_type": "code",
      "execution_count": 5,
      "metadata": {
        "colab": {
          "base_uri": "https://localhost:8080/"
        },
        "id": "Q7mcT38tQCt0",
        "outputId": "1526a517-3d8a-4825-abde-a56c24a59da3"
      },
      "outputs": [
        {
          "output_type": "stream",
          "name": "stdout",
          "text": [
            "This animal makes a sound.\n",
            "Bark!\n"
          ]
        }
      ],
      "source": [
        "class Animal:\n",
        "    def speak(self):\n",
        "        print(\"This animal makes a sound.\")\n",
        "class Dog(Animal):\n",
        "    def speak(self):\n",
        "        print(\"Bark!\")\n",
        "animal = Animal()\n",
        "dog = Dog()\n",
        "animal.speak()\n",
        "dog.speak()\n"
      ]
    },
    {
      "cell_type": "markdown",
      "source": [
        "2. Write a program to create an abstract class Shape with a method area(). Derive classes Circle and Rectangle\n",
        "from it and implement the area() method in both?"
      ],
      "metadata": {
        "id": "T_QUvwY0X3hw"
      }
    },
    {
      "cell_type": "markdown",
      "source": [
        "- The answer to the 2nd question"
      ],
      "metadata": {
        "id": "GeQ9WQAkX9jW"
      }
    },
    {
      "cell_type": "code",
      "source": [
        "from abc import ABC, abstractmethod\n",
        "import math\n",
        "class Shape(ABC):\n",
        "    @abstractmethod\n",
        "    def area(self):\n",
        "        pass\n",
        "class Circle(Shape):\n",
        "    def __init__(self, radius):\n",
        "        self.radius = radius\n",
        "    def area(self):\n",
        "        return math.pi * (self.radius ** 2)\n",
        "class Rectangle(Shape):\n",
        "    def __init__(self, width, height):\n",
        "        self.width = width\n",
        "        self.height = height\n",
        "    def area(self):\n",
        "        return self.width * self.height\n",
        "circle = Circle(5)\n",
        "rectangle = Rectangle(4, 6)\n",
        "print(\"Circle Area:\", circle.area())\n",
        "print(\"Rectangle Area:\", rectangle.area())\n"
      ],
      "metadata": {
        "colab": {
          "base_uri": "https://localhost:8080/"
        },
        "id": "n_YjITYLX94s",
        "outputId": "42ab2780-1758-46b1-9e8a-6a385d060614"
      },
      "execution_count": 6,
      "outputs": [
        {
          "output_type": "stream",
          "name": "stdout",
          "text": [
            "Circle Area: 78.53981633974483\n",
            "Rectangle Area: 24\n"
          ]
        }
      ]
    },
    {
      "cell_type": "markdown",
      "source": [
        "3. Implement a multi-level inheritance scenario where a class Vehicle has an attribute type. Derive a class Car\n",
        "and further derive a class ElectricCar that adds a battery attribute?"
      ],
      "metadata": {
        "id": "PO-tmt1_YQR5"
      }
    },
    {
      "cell_type": "markdown",
      "source": [
        "- The answer to the 3rd question"
      ],
      "metadata": {
        "id": "INOaDr4IYVVC"
      }
    },
    {
      "cell_type": "code",
      "source": [
        "class Vehicle:\n",
        "    def __init__(self,vehicle_type):self.vehicle_type=vehicle_type\n",
        "    def display_info(self):print(f\"Vehicle Type: {self.vehicle_type}\")\n",
        "class Car(Vehicle):\n",
        "    def __init__(self,vehicle_type,brand):super().__init__(vehicle_type);self.brand=brand\n",
        "    def display_info(self):super().display_info();print(f\"Brand: {self.brand}\")\n",
        "class ElectricCar(Car):\n",
        "    def __init__(self,vehicle_type,brand,battery_capacity):super().__init__(vehicle_type,brand);self.battery_capacity=battery_capacity\n",
        "    def display_info(self):super().display_info();print(f\"Battery Capacity: {self.battery_capacity} kWh\")\n",
        "tesla=ElectricCar(\"Car\",\"Suzuki\",75)\n",
        "tesla.display_info()\n"
      ],
      "metadata": {
        "colab": {
          "base_uri": "https://localhost:8080/"
        },
        "id": "8pNdT8NNYV3n",
        "outputId": "abcebe2f-b30a-42b3-d6b3-c3cba7b51c35"
      },
      "execution_count": 8,
      "outputs": [
        {
          "output_type": "stream",
          "name": "stdout",
          "text": [
            "Vehicle Type: Car\n",
            "Brand: Suzuki\n",
            "Battery Capacity: 75 kWh\n"
          ]
        }
      ]
    },
    {
      "cell_type": "markdown",
      "source": [
        "4. Demonstrate polymorphism by creating a base class Bird with a method fly(). Create two derived classes\n",
        "Sparrow and Penguin that override the fly() method?"
      ],
      "metadata": {
        "id": "_0G9elt6Y5H1"
      }
    },
    {
      "cell_type": "markdown",
      "source": [
        "- The answer to the 4th question"
      ],
      "metadata": {
        "id": "FGdnFiA3Y9Et"
      }
    },
    {
      "cell_type": "code",
      "source": [
        "class Bird:\n",
        "    def fly(self):print(\"Some birds can fly.\")\n",
        "class Sparrow(Bird):\n",
        "    def fly(self):print(\"Sparrow flies high in the sky.\")\n",
        "class Penguin(Bird):\n",
        "    def fly(self):print(\"Penguins cannot fly, they swim instead.\")\n",
        "for bird in [Sparrow(),Penguin()]:bird.fly()\n"
      ],
      "metadata": {
        "colab": {
          "base_uri": "https://localhost:8080/"
        },
        "id": "h48Jz5jBY9fd",
        "outputId": "d24c08b2-ed7f-4491-b990-c069787abb4e"
      },
      "execution_count": 9,
      "outputs": [
        {
          "output_type": "stream",
          "name": "stdout",
          "text": [
            "Sparrow flies high in the sky.\n",
            "Penguins cannot fly, they swim instead.\n"
          ]
        }
      ]
    },
    {
      "cell_type": "markdown",
      "source": [
        "5. Write a program to demonstrate encapsulation by creating a class BankAccount with private attributes\n",
        "balance and methods to deposit, withdraw, and check balance?"
      ],
      "metadata": {
        "id": "aEjik_1YZDQ8"
      }
    },
    {
      "cell_type": "markdown",
      "source": [
        "- The answer to the 5th question"
      ],
      "metadata": {
        "id": "ZcPTgqmRZHhJ"
      }
    },
    {
      "cell_type": "code",
      "source": [
        "class BankAccount:\n",
        "    def __init__(self, initial_balance=0):\n",
        "        self.__balance = initial_balance\n",
        "    def deposit(self, amount):\n",
        "        if amount > 0: self.__balance += amount; print(f\"${amount} deposited\")\n",
        "        else: print(\"Deposit must be positive\")\n",
        "    def withdraw(self, amount):\n",
        "        if amount > 0:\n",
        "            if amount <= self.__balance: self.__balance -= amount; print(f\"${amount} withdrawn\")\n",
        "            else: print(\"Insufficient balance\")\n",
        "        else: print(\"Withdrawal must be positive\")\n",
        "    def check_balance(self):\n",
        "        print(f\"Balance: ${self.__balance}\")\n",
        "\n",
        "account = BankAccount(100)\n",
        "account.check_balance()\n",
        "account.deposit(50)\n",
        "account.withdraw(30)\n",
        "account.withdraw(200)\n",
        "account.check_balance()\n"
      ],
      "metadata": {
        "colab": {
          "base_uri": "https://localhost:8080/"
        },
        "id": "WKRnSIggZH5S",
        "outputId": "35cfe83d-42e1-47bd-d3ad-c339b035593b"
      },
      "execution_count": 10,
      "outputs": [
        {
          "output_type": "stream",
          "name": "stdout",
          "text": [
            "Balance: $100\n",
            "$50 deposited\n",
            "$30 withdrawn\n",
            "Insufficient balance\n",
            "Balance: $120\n"
          ]
        }
      ]
    },
    {
      "cell_type": "markdown",
      "source": [
        "6. Demonstrate runtime polymorphism using a method play() in a base class Instrument. Derive classes Guitar\n",
        "and Piano that implement their own version of play()?"
      ],
      "metadata": {
        "id": "vyYjJHYgZX5j"
      }
    },
    {
      "cell_type": "markdown",
      "source": [
        "- The answer to the 6th question"
      ],
      "metadata": {
        "id": "5kFQIrF2ZcCi"
      }
    },
    {
      "cell_type": "code",
      "source": [
        "class Instrument:\n",
        "    def play(self):\n",
        "        print(\"Playing instrument\")\n",
        "class Guitar(Instrument):\n",
        "    def play(self):\n",
        "        print(\"Strumming the guitar\")\n",
        "class Piano(Instrument):\n",
        "    def play(self):\n",
        "        print(\"Playing the piano keys\")\n",
        "instruments = [Guitar(), Piano(), Instrument()]\n",
        "for instr in instruments:\n",
        "    instr.play()\n"
      ],
      "metadata": {
        "colab": {
          "base_uri": "https://localhost:8080/"
        },
        "id": "OdOYBO-HZcc6",
        "outputId": "be9d5009-0c65-4c52-fc17-88132ab1948b"
      },
      "execution_count": 12,
      "outputs": [
        {
          "output_type": "stream",
          "name": "stdout",
          "text": [
            "Strumming the guitar\n",
            "Playing the piano keys\n",
            "Playing instrument\n"
          ]
        }
      ]
    },
    {
      "cell_type": "markdown",
      "source": [
        "7. Create a class MathOperations with a class method add_numbers() to add two numbers and a static\n",
        "method subtract_numbers() to subtract two numbers."
      ],
      "metadata": {
        "id": "7dkSwoZYZmaA"
      }
    },
    {
      "cell_type": "markdown",
      "source": [
        "- The answer to the 7th question"
      ],
      "metadata": {
        "id": "UQkSA3b2Z0jP"
      }
    },
    {
      "cell_type": "code",
      "source": [
        "class MathOperations:\n",
        "    @classmethod\n",
        "    def add_numbers(cls, a, b):\n",
        "        return a + b\n",
        "    @staticmethod\n",
        "    def subtract_numbers(a, b):\n",
        "        return a - b\n",
        "print(\"Addition:\", MathOperations.add_numbers(10, 5))\n",
        "print(\"Subtraction:\", MathOperations.subtract_numbers(10, 5))\n"
      ],
      "metadata": {
        "colab": {
          "base_uri": "https://localhost:8080/"
        },
        "id": "7m-P8PwXZvgF",
        "outputId": "ab867054-8566-4720-b7e5-7364c3fa4280"
      },
      "execution_count": 13,
      "outputs": [
        {
          "output_type": "stream",
          "name": "stdout",
          "text": [
            "Addition: 15\n",
            "Subtraction: 5\n"
          ]
        }
      ]
    },
    {
      "cell_type": "markdown",
      "source": [
        "8.  Implement a class Person with a class method to count the total number of persons created?"
      ],
      "metadata": {
        "id": "UxfWwAzYZ3Qw"
      }
    },
    {
      "cell_type": "markdown",
      "source": [
        "- The answer to the 8th question"
      ],
      "metadata": {
        "id": "VQ4pckEGZ7Bj"
      }
    },
    {
      "cell_type": "code",
      "source": [
        "class Person:\n",
        "    count = 0\n",
        "    def __init__(self, name):\n",
        "        self.name = name\n",
        "        Person.count += 1\n",
        "    @classmethod\n",
        "    def total_persons(cls):\n",
        "        return cls.count\n",
        "p1 = Person(\"Alice\")\n",
        "p2 = Person(\"Bob\")\n",
        "p3 = Person(\"Charlie\")\n",
        "print(\"Total persons created:\", Person.total_persons())\n"
      ],
      "metadata": {
        "colab": {
          "base_uri": "https://localhost:8080/"
        },
        "id": "ySP8P1VeZ7eG",
        "outputId": "7553a693-22c7-4af7-cfed-ddb7458ddd9e"
      },
      "execution_count": 14,
      "outputs": [
        {
          "output_type": "stream",
          "name": "stdout",
          "text": [
            "Total persons created: 3\n"
          ]
        }
      ]
    },
    {
      "cell_type": "markdown",
      "source": [
        "9. Write a class Fraction with attributes numerator and denominator. Override the str method to display the\n",
        "fraction as \"numerator/denominator\"."
      ],
      "metadata": {
        "id": "QN2-MrmZaDsn"
      }
    },
    {
      "cell_type": "markdown",
      "source": [
        "- The answer to the 9th question"
      ],
      "metadata": {
        "id": "EkO9YQbzaG-X"
      }
    },
    {
      "cell_type": "code",
      "source": [
        "class Fraction:\n",
        "    def __init__(self, numerator, denominator):\n",
        "        self.numerator = numerator\n",
        "        self.denominator = denominator\n",
        "    def __str__(self):\n",
        "        return f\"{self.numerator}/{self.denominator}\"\n",
        "f1 = Fraction(3, 4)\n",
        "f2 = Fraction(5, 6)\n",
        "print(f1)\n",
        "print(f2)\n"
      ],
      "metadata": {
        "colab": {
          "base_uri": "https://localhost:8080/"
        },
        "id": "2tCoH-k3aHMy",
        "outputId": "d898700a-5760-40b8-8a27-714218963b0c"
      },
      "execution_count": 15,
      "outputs": [
        {
          "output_type": "stream",
          "name": "stdout",
          "text": [
            "3/4\n",
            "5/6\n"
          ]
        }
      ]
    },
    {
      "cell_type": "markdown",
      "source": [
        "10. Demonstrate operator overloading by creating a class Vector and overriding the add method to add two\n",
        "vectors?"
      ],
      "metadata": {
        "id": "JvcSFlhcaPdj"
      }
    },
    {
      "cell_type": "markdown",
      "source": [
        "- The answer to the 10th question"
      ],
      "metadata": {
        "id": "-ZRd752HaUQl"
      }
    },
    {
      "cell_type": "code",
      "source": [
        "class Vector:\n",
        "    def __init__(self, x, y):\n",
        "        self.x = x\n",
        "        self.y = y\n",
        "    def __add__(self, other):\n",
        "        return Vector(self.x + other.x, self.y + other.y)\n",
        "    def __str__(self):\n",
        "        return f\"({self.x}, {self.y})\"\n",
        "v1 = Vector(2, 3)\n",
        "v2 = Vector(4, 5)\n",
        "v3 = v1 + v2\n",
        "print(\"v1 + v2 =\", v3)\n"
      ],
      "metadata": {
        "colab": {
          "base_uri": "https://localhost:8080/"
        },
        "id": "DHfVjXaJaUqR",
        "outputId": "50273b89-a18b-4802-864f-3d5869bd3a03"
      },
      "execution_count": 16,
      "outputs": [
        {
          "output_type": "stream",
          "name": "stdout",
          "text": [
            "v1 + v2 = (6, 8)\n"
          ]
        }
      ]
    },
    {
      "cell_type": "markdown",
      "source": [
        "11. Create a class Person with attributes name and age. Add a method greet() that prints \"Hello, my name is\n",
        "{name} and I am {age} years old.\"?"
      ],
      "metadata": {
        "id": "EqNLHjdxbNpr"
      }
    },
    {
      "cell_type": "markdown",
      "source": [
        "- The answer to the 11th question"
      ],
      "metadata": {
        "id": "Bwar1N7LbiG0"
      }
    },
    {
      "cell_type": "code",
      "source": [
        "class Person:\n",
        "    def __init__(self, name, age):\n",
        "        self.name = name\n",
        "        self.age = age\n",
        "    def greet(self):\n",
        "        print(f\"Hello, my name is {self.name} and I am {self.age} years old.\")\n",
        "p1 = Person(\"Sarpuri Yashvitha\", 22)\n",
        "p2 = Person(\"Kavitha\", 50)\n",
        "p1.greet()\n",
        "p2.greet()\n"
      ],
      "metadata": {
        "colab": {
          "base_uri": "https://localhost:8080/"
        },
        "id": "mF6UkTDrbiVY",
        "outputId": "e713915d-8701-49c1-b2d1-bbc272ca11ef"
      },
      "execution_count": 19,
      "outputs": [
        {
          "output_type": "stream",
          "name": "stdout",
          "text": [
            "Hello, my name is Sarpuri Yashvitha and I am 22 years old.\n",
            "Hello, my name is Kavitha and I am 50 years old.\n"
          ]
        }
      ]
    },
    {
      "cell_type": "markdown",
      "source": [
        "12. Implement a class Student with attributes name and grades. Create a method average_grade() to compute\n",
        "the average of the grades?"
      ],
      "metadata": {
        "id": "jRnjKalrb4HS"
      }
    },
    {
      "cell_type": "markdown",
      "source": [
        "- The answer to the 12th question"
      ],
      "metadata": {
        "id": "GeoPV2o0cDKK"
      }
    },
    {
      "cell_type": "code",
      "source": [
        "class Student:\n",
        "    def __init__(self, name, grades):\n",
        "        self.name = name\n",
        "        self.grades = grades\n",
        "    def average_grade(self):\n",
        "        if self.grades:\n",
        "            return sum(self.grades) / len(self.grades)\n",
        "        else:\n",
        "            return 0\n",
        "s1 = Student(\"Sarpuri Yashvitha\", [85, 90, 78])\n",
        "s2 = Student(\"Kavitha\", [70, 88, 92, 80])\n",
        "print(f\"{s1.name}'s average grade: {s1.average_grade()}\")\n",
        "print(f\"{s2.name}'s average grade: {s2.average_grade()}\")\n"
      ],
      "metadata": {
        "colab": {
          "base_uri": "https://localhost:8080/"
        },
        "id": "eY87PEi-cDbC",
        "outputId": "95968da5-3b27-47c0-e49b-2690bd79943c"
      },
      "execution_count": 22,
      "outputs": [
        {
          "output_type": "stream",
          "name": "stdout",
          "text": [
            "Sarpuri Yashvitha's average grade: 84.33333333333333\n",
            "Kavitha's average grade: 82.5\n"
          ]
        }
      ]
    },
    {
      "cell_type": "markdown",
      "source": [
        "13. Create a class Rectangle with methods set_dimensions() to set the dimensions and area() to calculate the\n",
        "area.\n"
      ],
      "metadata": {
        "id": "ZTlfOGX2ctmA"
      }
    },
    {
      "cell_type": "markdown",
      "source": [
        "- The answer to the 13th question"
      ],
      "metadata": {
        "id": "ni4dNUEHc1VM"
      }
    },
    {
      "cell_type": "code",
      "source": [
        "class Rectangle:\n",
        "    def __init__(self):\n",
        "        self.length = 0\n",
        "        self.width = 0\n",
        "    def set_dimensions(self, length, width):\n",
        "        self.length = length\n",
        "        self.width = width\n",
        "    def area(self):\n",
        "        return self.length * self.width\n",
        "r1 = Rectangle()\n",
        "r1.set_dimensions(5, 3)\n",
        "print(\"Area of rectangle:\", r1.area())\n"
      ],
      "metadata": {
        "colab": {
          "base_uri": "https://localhost:8080/"
        },
        "id": "vLp9GlsLc08w",
        "outputId": "27d025a2-ac42-4671-a07c-c34e73527e87"
      },
      "execution_count": 23,
      "outputs": [
        {
          "output_type": "stream",
          "name": "stdout",
          "text": [
            "Area of rectangle: 15\n"
          ]
        }
      ]
    },
    {
      "cell_type": "markdown",
      "source": [
        "14. Create a class Employee with a method calculate_salary() that computes the salary based on hours worked\n",
        "and hourly rate. Create a derived class Manager that adds a bonus to the salary?"
      ],
      "metadata": {
        "id": "bBcwnTxPc81s"
      }
    },
    {
      "cell_type": "markdown",
      "source": [
        "- The answer to the 14th question"
      ],
      "metadata": {
        "id": "M-EHQMqwdBf2"
      }
    },
    {
      "cell_type": "code",
      "source": [
        "class Employee:\n",
        "    def __init__(self, name, hours_worked, hourly_rate):\n",
        "        self.name = name\n",
        "        self.hours_worked = hours_worked\n",
        "        self.hourly_rate = hourly_rate\n",
        "    def calculate_salary(self):\n",
        "        return self.hours_worked * self.hourly_rate\n",
        "class Manager(Employee):\n",
        "    def __init__(self, name, hours_worked, hourly_rate, bonus):\n",
        "        super().__init__(name, hours_worked, hourly_rate)\n",
        "        self.bonus = bonus\n",
        "    def calculate_salary(self):\n",
        "        return super().calculate_salary() + self.bonus\n",
        "e1 = Employee(\"Sarpuri Yashvitha\", 40, 20)\n",
        "m1 = Manager(\"Kavitha\", 40, 30, 500)\n",
        "print(f\"{e1.name}'s salary: ${e1.calculate_salary()}\")\n",
        "print(f\"{m1.name}'s salary: ${m1.calculate_salary()}\")\n"
      ],
      "metadata": {
        "colab": {
          "base_uri": "https://localhost:8080/"
        },
        "id": "hjq2mddrdB3s",
        "outputId": "737f449b-310b-4320-bd2c-acccdd839682"
      },
      "execution_count": 25,
      "outputs": [
        {
          "output_type": "stream",
          "name": "stdout",
          "text": [
            "Sarpuri Yashvitha's salary: $800\n",
            "Kavitha's salary: $1700\n"
          ]
        }
      ]
    },
    {
      "cell_type": "markdown",
      "source": [
        "15. Create a class Product with attributes name, price, and quantity. Implement a method total_price() that\n",
        "calculates the total price of the product."
      ],
      "metadata": {
        "id": "DIasb2w0dQqE"
      }
    },
    {
      "cell_type": "markdown",
      "source": [
        "- The answer to the 15th question"
      ],
      "metadata": {
        "id": "LYGhi7IEdT3n"
      }
    },
    {
      "cell_type": "code",
      "source": [
        "class Product:\n",
        "    def __init__(self, name, price, quantity):\n",
        "        self.name = name\n",
        "        self.price = price\n",
        "        self.quantity = quantity\n",
        "    def total_price(self):\n",
        "        return self.price * self.quantity\n",
        "p1 = Product(\"Laptop\", 800, 2)\n",
        "p2 = Product(\"Phone\", 500, 3)\n",
        "print(f\"Total price of {p1.name}: ${p1.total_price()}\")\n",
        "print(f\"Total price of {p2.name}: ${p2.total_price()}\")\n"
      ],
      "metadata": {
        "colab": {
          "base_uri": "https://localhost:8080/"
        },
        "id": "pOS8jhyfdUPc",
        "outputId": "02e7764e-b653-44e1-89df-ade3092487a8"
      },
      "execution_count": 26,
      "outputs": [
        {
          "output_type": "stream",
          "name": "stdout",
          "text": [
            "Total price of Laptop: $1600\n",
            "Total price of Phone: $1500\n"
          ]
        }
      ]
    },
    {
      "cell_type": "markdown",
      "source": [
        "16. Create a class Animal with an abstract method sound(). Create two derived classes Cow and Sheep that\n",
        "implement the sound() method?"
      ],
      "metadata": {
        "id": "li587Kw1dZ3R"
      }
    },
    {
      "cell_type": "markdown",
      "source": [
        "- The answer to the 16th question"
      ],
      "metadata": {
        "id": "vU2EgarPdh72"
      }
    },
    {
      "cell_type": "code",
      "source": [
        "from abc import ABC, abstractmethod\n",
        "class Animal(ABC):\n",
        "    @abstractmethod\n",
        "    def sound(self):\n",
        "        pass\n",
        "class Cow(Animal):\n",
        "    def sound(self):\n",
        "        print(\"Moo\")\n",
        "class Sheep(Animal):\n",
        "    def sound(self):\n",
        "        print(\"Baa\")n\n",
        "animals = [Cow(), Sheep()]\n",
        "\n",
        "for animal in animals:\n",
        "    animal.sound()\n"
      ],
      "metadata": {
        "colab": {
          "base_uri": "https://localhost:8080/"
        },
        "id": "Vb9GXmZbdiJt",
        "outputId": "5b434529-e8e0-4ae6-fa50-48422020efe3"
      },
      "execution_count": 27,
      "outputs": [
        {
          "output_type": "stream",
          "name": "stdout",
          "text": [
            "Moo\n",
            "Baa\n"
          ]
        }
      ]
    },
    {
      "cell_type": "markdown",
      "source": [
        "17. Create a class Book with attributes title, author, and year_published. Add a method get_book_info() that\n",
        "returns a formatted string with the book's details?"
      ],
      "metadata": {
        "id": "Fy1CG496dnkb"
      }
    },
    {
      "cell_type": "markdown",
      "source": [
        "- The answer to the 17th question"
      ],
      "metadata": {
        "id": "q0AO84mvdrPp"
      }
    },
    {
      "cell_type": "code",
      "source": [
        "class Book:\n",
        "    def __init__(self, title, author, year_published):\n",
        "        self.title = title\n",
        "        self.author = author\n",
        "        self.year_published = year_published\n",
        "    def get_book_info(self):\n",
        "        return f\"'{self.title}' by {self.author}, published in {self.year_published}\"\n",
        "b1 = Book(\"1984\", \"George Orwell\", 1949)\n",
        "b2 = Book(\"To Kill a Mockingbird\", \"Harper Lee\", 1960)\n",
        "print(b1.get_book_info())\n",
        "print(b2.get_book_info())\n"
      ],
      "metadata": {
        "colab": {
          "base_uri": "https://localhost:8080/"
        },
        "id": "ns3buPvxdrfp",
        "outputId": "5ea7f704-2840-443a-f7da-b82de0661afd"
      },
      "execution_count": 28,
      "outputs": [
        {
          "output_type": "stream",
          "name": "stdout",
          "text": [
            "'1984' by George Orwell, published in 1949\n",
            "'To Kill a Mockingbird' by Harper Lee, published in 1960\n"
          ]
        }
      ]
    },
    {
      "cell_type": "markdown",
      "source": [
        "18. Create a class House with attributes address and price. Create a derived class Mansion that adds an\n",
        "attribute number_of_rooms?"
      ],
      "metadata": {
        "id": "NeBf2dyydxW2"
      }
    },
    {
      "cell_type": "markdown",
      "source": [
        "- The answer to the 18th question"
      ],
      "metadata": {
        "id": "bd-GwXe3d0uV"
      }
    },
    {
      "cell_type": "code",
      "source": [
        "class House:\n",
        "    def __init__(self, address, price):\n",
        "        self.address = address\n",
        "        self.price = price\n",
        "class Mansion(House):\n",
        "    def __init__(self, address, price, number_of_rooms):\n",
        "        super().__init__(address, price)\n",
        "        self.number_of_rooms = number_of_rooms\n",
        "    def get_info(self):\n",
        "        return f\"Address: {self.address}, Price: ${self.price}, Rooms: {self.number_of_rooms}\"\n",
        "h1 = House(\"123 Maple St\", 250000)\n",
        "m1 = Mansion(\"456 Oak Ave\", 1500000, 10)\n",
        "print(f\"House: Address = {h1.address}, Price = ${h1.price}\")\n",
        "print(\"Mansion:\", m1.get_info())\n"
      ],
      "metadata": {
        "colab": {
          "base_uri": "https://localhost:8080/"
        },
        "id": "gjLK7uo9d1B8",
        "outputId": "ab271e70-d9d1-4d79-fb9a-eb3f93c26083"
      },
      "execution_count": 29,
      "outputs": [
        {
          "output_type": "stream",
          "name": "stdout",
          "text": [
            "House: Address = 123 Maple St, Price = $250000\n",
            "Mansion: Address: 456 Oak Ave, Price: $1500000, Rooms: 10\n"
          ]
        }
      ]
    }
  ]
}